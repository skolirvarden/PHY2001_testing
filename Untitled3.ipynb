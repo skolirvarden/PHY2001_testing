{
 "cells": [
  {
   "cell_type": "code",
   "execution_count": 1,
   "id": "b16d0b8b",
   "metadata": {},
   "outputs": [
    {
     "data": {
      "application/x-qsharp-data": "[\"GenerateRandomBit\"]",
      "text/html": [
       "<ul><li>GenerateRandomBit</li></ul>"
      ],
      "text/plain": [
       "GenerateRandomBit"
      ]
     },
     "execution_count": 1,
     "metadata": {},
     "output_type": "execute_result"
    }
   ],
   "source": [
    "    open Microsoft.Quantum.Canon;\n",
    "    open Microsoft.Quantum.Intrinsic;\n",
    "    open Microsoft.Quantum.Measurement;\n",
    "    open Microsoft.Quantum.Math;\n",
    "    open Microsoft.Quantum.Convert;\n",
    "    \n",
    "\n",
    "    operation GenerateRandomBit() : Result {\n",
    "use q = Qubit();\n",
    "H(q);\n",
    "return M(q);\n",
    "    }"
   ]
  }
 ],
 "metadata": {
  "kernelspec": {
   "display_name": "Q#",
   "language": "qsharp",
   "name": "iqsharp"
  },
  "language_info": {
   "file_extension": ".qs",
   "mimetype": "text/x-qsharp",
   "name": "qsharp",
   "version": "0.24"
  }
 },
 "nbformat": 4,
 "nbformat_minor": 5
}
